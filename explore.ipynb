{
 "cells": [
  {
   "cell_type": "code",
   "execution_count": 6,
   "metadata": {},
   "outputs": [],
   "source": [
    "import pandas as pd\n",
    "import os\n",
    "from models import *\n",
    "\n",
    "from IPython.core.interactiveshell import InteractiveShell\n",
    "InteractiveShell.ast_node_interactivity = \"all\""
   ]
  },
  {
   "cell_type": "code",
   "execution_count": 2,
   "metadata": {},
   "outputs": [],
   "source": [
    "path = './osfstorage-archive/Experiment 1/twostep_data_study1/'\n",
    "paths = [path + x for x in os.listdir(path) if x.endswith('.csv')]"
   ]
  },
  {
   "cell_type": "code",
   "execution_count": 3,
   "metadata": {},
   "outputs": [
    {
     "data": {
      "text/plain": [
       "'./osfstorage-archive/Experiment 1/twostep_data_study1/3A1COHJ8NJVPKFSRS1WC7SOUCMHH84.csv'"
      ]
     },
     "execution_count": 3,
     "metadata": {},
     "output_type": "execute_result"
    }
   ],
   "source": [
    "def read_fn(fn):\n",
    "    with open(fn) as f:\n",
    "        lines = f.readlines()\n",
    "    lines = [x.strip() for x in lines]\n",
    "    i = min([i for i, x in enumerate(lines) if 'twostep_instruct_9' in x])\n",
    "    lines = lines[i:]\n",
    "    lines = [x.split(',') for x in lines]\n",
    "\n",
    "    df = pd.DataFrame(lines[1:])\n",
    "    return df\n",
    "\n",
    "fn = [x for x in paths if '3A1COHJ8NJVPKFSRS1WC7SOUCMHH84' in x][0]\n",
    "fn\n",
    "\n",
    "df = read_fn(fn)\n"
   ]
  },
  {
   "cell_type": "code",
   "execution_count": 4,
   "metadata": {},
   "outputs": [
    {
     "data": {
      "text/plain": [
       "'A = trial_num\\nB = drift 1 (probability of reward after second stage option 1)\\nC = drift 2 (probability of reward after second stage option 2)\\nD = drift 3 (probability of reward after second stage option 3)\\nE = drift 4 (probability of reward after second stage option 4)\\nF = stage 1 response (left/right)\\nG = stage 1 selected stimulus (1/2 - note this is redundant with the response as the stage 1 options do not switch locations)\\nH = stage 1 RT\\nI = transition (common = TRUE; rare = FALSE)\\nJ = stage 2 response (left/right)\\nK = stage 2 selected stimulus (1/2 - note this is redundant with response as the stage 2 options also do not switch locations)\\nL =  stage 2 state (identity 2 or 3)\\nM = stage 2 RT\\nN = reward (1= yes; 0=no)\\nO = redundant task variable, always set to 1'"
      ]
     },
     "execution_count": 4,
     "metadata": {},
     "output_type": "execute_result"
    }
   ],
   "source": [
    "# rename columns\n",
    "\"\"\"A = trial_num\n",
    "B = drift 1 (probability of reward after second stage option 1)\n",
    "C = drift 2 (probability of reward after second stage option 2)\n",
    "D = drift 3 (probability of reward after second stage option 3)\n",
    "E = drift 4 (probability of reward after second stage option 4)\n",
    "F = stage 1 response (left/right)\n",
    "G = stage 1 selected stimulus (1/2 - note this is redundant with the response as the stage 1 options do not switch locations)\n",
    "H = stage 1 RT\n",
    "I = transition (common = TRUE; rare = FALSE)\n",
    "J = stage 2 response (left/right)\n",
    "K = stage 2 selected stimulus (1/2 - note this is redundant with response as the stage 2 options also do not switch locations)\n",
    "L =  stage 2 state (identity 2 or 3)\n",
    "M = stage 2 RT\n",
    "N = reward (1= yes; 0=no)\n",
    "O = redundant task variable, always set to 1\"\"\"\n",
    "\n",
    "columns = \"\"\"A = trial_num\n",
    "B = drift1\n",
    "C = drift2\n",
    "D = drift3\n",
    "E = drift4\n",
    "F = choice1\n",
    "G = choice1_int\n",
    "H = stage1_RT\n",
    "I = common_trans\n",
    "J = choice2\n",
    "K = choice2_int\n",
    "L = stage2\n",
    "M = stage2_RT\n",
    "N = reward\n",
    "O = redundant\"\"\"\n",
    "columns = columns.split('\\n')\n",
    "columns = [x.split(' = ')[1] for x in columns]\n",
    "\n",
    "# fn = [x for x in paths if '3A1COHJ8NJVPKFSRS1WC7SOUCMHH84' in x][0]\n",
    "fn = paths[7]\n",
    "df = read_fn(fn)\n",
    "df.columns = columns\n",
    "df.drop('redundant', axis=1, inplace=True)\n",
    "\n",
    "\n",
    "df.loc[:, ['drift1', 'drift2', 'drift3', 'drift4']] = df.loc[:, ['drift1', 'drift2', 'drift3', 'drift4']].astype(float)\n",
    "\n",
    "# drop rows where reward is -1. These seem to be where the participant did not respond in time, i.e. RT=2502?\n",
    "df.reward = df.reward.astype(int)\n",
    "df = df[df.reward != -1]\n",
    "\n",
    "# reset index\n",
    "df.reset_index(drop=True, inplace=True)\n",
    "\n",
    "df.common_trans = df.common_trans.apply(lambda x: x == 'true')\n",
    "df.choice1_int = df.choice1_int.astype(int) - 1\n",
    "df.choice2_int = df.choice2_int.astype(int) - 1\n",
    "df.stage2 = df.stage2.astype(int) - 2"
   ]
  },
  {
   "cell_type": "code",
   "execution_count": 7,
   "metadata": {},
   "outputs": [
    {
     "data": {
      "text/plain": [
       "array([0.54352428, 0.5060368 ])"
      ]
     },
     "execution_count": 7,
     "metadata": {},
     "output_type": "execute_result"
    },
    {
     "data": {
      "text/plain": [
       "array([0.50205791, 0.52139575])"
      ]
     },
     "execution_count": 7,
     "metadata": {},
     "output_type": "execute_result"
    }
   ],
   "source": [
    "drifts = df.loc[:, ['drift1', 'drift2', 'drift3', 'drift4']]\n",
    "drifts_org = drifts.apply(lambda x: [[x[0], x[1]], [x[2], x[3]]], axis=1)\n",
    "outs = []\n",
    "outs2 = []\n",
    "for i, x in df.iterrows():\n",
    "    stage2 = x['stage2']\n",
    "    choice2 = x['choice2_int']\n",
    "    # reward prob of one we chose, and of the one we didn't\n",
    "    outs.append([drifts_org.iloc[i][stage2][choice2], drifts_org.iloc[i][stage2][cbar(choice2)]])\n",
    "    # and for other stage\n",
    "    outs2.append([drifts_org.iloc[i][cbar(stage2)][choice2], drifts_org.iloc[i][cbar(stage2)][cbar(choice2)]])\n",
    "\n",
    "outs = np.array(outs)\n",
    "outs2 = np.array(outs2)\n",
    "# if human is doing well, 0 should be > 1\n",
    "outs.mean(axis=0)\n",
    "# and generally better than other stage?\n",
    "outs2.mean(axis=0)\n",
    "\n",
    "# TODO why do these sometimes correlate and sometimes anticorrelate?\n",
    "\n",
    "# this code "
   ]
  },
  {
   "cell_type": "code",
   "execution_count": 96,
   "metadata": {},
   "outputs": [
    {
     "data": {
      "text/plain": [
       "[[0.742621470936, 0.272532468277], [0.71669309271, 0.479056705494]]"
      ]
     },
     "execution_count": 96,
     "metadata": {},
     "output_type": "execute_result"
    }
   ],
   "source": [
    "drifts_org.iloc[0]"
   ]
  },
  {
   "cell_type": "code",
   "execution_count": 6,
   "metadata": {},
   "outputs": [],
   "source": [
    "from models import *\n",
    "\n",
    "foo = Model()"
   ]
  },
  {
   "cell_type": "code",
   "execution_count": 7,
   "metadata": {},
   "outputs": [
    {
     "data": {
      "text/plain": [
       "['Q_MB',\n",
       " 'Q_MF0',\n",
       " 'Q_MF1',\n",
       " 'Qstage2',\n",
       " 'alpha',\n",
       " 'beta_stick',\n",
       " 'get_stage1_action',\n",
       " 'get_stage2_action']"
      ]
     },
     "execution_count": 7,
     "metadata": {},
     "output_type": "execute_result"
    }
   ],
   "source": [
    "[x for x in dir(foo) if not x.startswith('_')]"
   ]
  },
  {
   "cell_type": "code",
   "execution_count": 9,
   "metadata": {},
   "outputs": [
    {
     "data": {
      "text/plain": [
       "array([0.5, 0.5])"
      ]
     },
     "execution_count": 9,
     "metadata": {},
     "output_type": "execute_result"
    },
    {
     "data": {
      "text/plain": [
       "array([0.73105858, 0.26894142])"
      ]
     },
     "execution_count": 9,
     "metadata": {},
     "output_type": "execute_result"
    },
    {
     "data": {
      "text/plain": [
       "array([0.26894142, 0.73105858])"
      ]
     },
     "execution_count": 9,
     "metadata": {},
     "output_type": "execute_result"
    }
   ],
   "source": [
    "foo.get_stage2_action(0)\n",
    "foo.get_stage1_action(0)\n",
    "foo.get_stage1_action(1)"
   ]
  },
  {
   "cell_type": "code",
   "execution_count": 9,
   "metadata": {},
   "outputs": [
    {
     "data": {
      "text/plain": [
       "array([1.        , 2.71828183])"
      ]
     },
     "execution_count": 9,
     "metadata": {},
     "output_type": "execute_result"
    }
   ],
   "source": [
    "foo.get_stage1_action(1)"
   ]
  },
  {
   "cell_type": "code",
   "execution_count": 9,
   "metadata": {},
   "outputs": [
    {
     "data": {
      "text/plain": [
       "0.0"
      ]
     },
     "execution_count": 9,
     "metadata": {},
     "output_type": "execute_result"
    },
    {
     "data": {
      "text/plain": [
       "0"
      ]
     },
     "execution_count": 9,
     "metadata": {},
     "output_type": "execute_result"
    },
    {
     "data": {
      "text/plain": [
       "0"
      ]
     },
     "execution_count": 9,
     "metadata": {},
     "output_type": "execute_result"
    }
   ],
   "source": [
    "foo.Q_MB.get_val(0)\n",
    "foo.Q_MF0.get_val(0)\n",
    "foo.Q_MF1.get_val(0)"
   ]
  },
  {
   "cell_type": "code",
   "execution_count": 10,
   "metadata": {},
   "outputs": [
    {
     "data": {
      "text/plain": [
       "0.0"
      ]
     },
     "execution_count": 10,
     "metadata": {},
     "output_type": "execute_result"
    },
    {
     "data": {
      "text/plain": [
       "0.0"
      ]
     },
     "execution_count": 10,
     "metadata": {},
     "output_type": "execute_result"
    },
    {
     "data": {
      "text/plain": [
       "0.0"
      ]
     },
     "execution_count": 10,
     "metadata": {},
     "output_type": "execute_result"
    }
   ],
   "source": [
    "foo.Q_MB.get_beta_scaled_val(0)\n",
    "foo.Q_MF0.get_beta_scaled_val(0)\n",
    "foo.Q_MF1.get_beta_scaled_val(0)"
   ]
  },
  {
   "cell_type": "code",
   "execution_count": 10,
   "metadata": {},
   "outputs": [
    {
     "data": {
      "text/html": [
       "<div>\n",
       "<style scoped>\n",
       "    .dataframe tbody tr th:only-of-type {\n",
       "        vertical-align: middle;\n",
       "    }\n",
       "\n",
       "    .dataframe tbody tr th {\n",
       "        vertical-align: top;\n",
       "    }\n",
       "\n",
       "    .dataframe thead th {\n",
       "        text-align: right;\n",
       "    }\n",
       "</style>\n",
       "<table border=\"1\" class=\"dataframe\">\n",
       "  <thead>\n",
       "    <tr style=\"text-align: right;\">\n",
       "      <th></th>\n",
       "      <th>drift 1</th>\n",
       "      <th>drift 2</th>\n",
       "      <th>drift 3</th>\n",
       "      <th>drift 4</th>\n",
       "    </tr>\n",
       "  </thead>\n",
       "  <tbody>\n",
       "    <tr>\n",
       "      <th>0</th>\n",
       "      <td>0.742621</td>\n",
       "      <td>0.272532</td>\n",
       "      <td>0.716693</td>\n",
       "      <td>0.479057</td>\n",
       "    </tr>\n",
       "    <tr>\n",
       "      <th>1</th>\n",
       "      <td>0.714054</td>\n",
       "      <td>0.289570</td>\n",
       "      <td>0.711770</td>\n",
       "      <td>0.456458</td>\n",
       "    </tr>\n",
       "    <tr>\n",
       "      <th>2</th>\n",
       "      <td>0.708948</td>\n",
       "      <td>0.346194</td>\n",
       "      <td>0.714403</td>\n",
       "      <td>0.465937</td>\n",
       "    </tr>\n",
       "    <tr>\n",
       "      <th>3</th>\n",
       "      <td>0.732490</td>\n",
       "      <td>0.339448</td>\n",
       "      <td>0.704013</td>\n",
       "      <td>0.385709</td>\n",
       "    </tr>\n",
       "    <tr>\n",
       "      <th>4</th>\n",
       "      <td>0.717249</td>\n",
       "      <td>0.407607</td>\n",
       "      <td>0.721518</td>\n",
       "      <td>0.422206</td>\n",
       "    </tr>\n",
       "    <tr>\n",
       "      <th>...</th>\n",
       "      <td>...</td>\n",
       "      <td>...</td>\n",
       "      <td>...</td>\n",
       "      <td>...</td>\n",
       "    </tr>\n",
       "    <tr>\n",
       "      <th>195</th>\n",
       "      <td>0.383793</td>\n",
       "      <td>0.712425</td>\n",
       "      <td>0.479336</td>\n",
       "      <td>0.387209</td>\n",
       "    </tr>\n",
       "    <tr>\n",
       "      <th>196</th>\n",
       "      <td>0.373070</td>\n",
       "      <td>0.734290</td>\n",
       "      <td>0.460442</td>\n",
       "      <td>0.375364</td>\n",
       "    </tr>\n",
       "    <tr>\n",
       "      <th>197</th>\n",
       "      <td>0.440371</td>\n",
       "      <td>0.747561</td>\n",
       "      <td>0.460608</td>\n",
       "      <td>0.410302</td>\n",
       "    </tr>\n",
       "    <tr>\n",
       "      <th>198</th>\n",
       "      <td>0.471404</td>\n",
       "      <td>0.736648</td>\n",
       "      <td>0.467873</td>\n",
       "      <td>0.375277</td>\n",
       "    </tr>\n",
       "    <tr>\n",
       "      <th>199</th>\n",
       "      <td>0.487118</td>\n",
       "      <td>0.736006</td>\n",
       "      <td>0.446751</td>\n",
       "      <td>0.402649</td>\n",
       "    </tr>\n",
       "  </tbody>\n",
       "</table>\n",
       "<p>200 rows × 4 columns</p>\n",
       "</div>"
      ],
      "text/plain": [
       "      drift 1   drift 2   drift 3   drift 4\n",
       "0    0.742621  0.272532  0.716693  0.479057\n",
       "1    0.714054  0.289570  0.711770  0.456458\n",
       "2    0.708948  0.346194  0.714403  0.465937\n",
       "3    0.732490  0.339448  0.704013  0.385709\n",
       "4    0.717249  0.407607  0.721518  0.422206\n",
       "..        ...       ...       ...       ...\n",
       "195  0.383793  0.712425  0.479336  0.387209\n",
       "196  0.373070  0.734290  0.460442  0.375364\n",
       "197  0.440371  0.747561  0.460608  0.410302\n",
       "198  0.471404  0.736648  0.467873  0.375277\n",
       "199  0.487118  0.736006  0.446751  0.402649\n",
       "\n",
       "[200 rows x 4 columns]"
      ]
     },
     "execution_count": 10,
     "metadata": {},
     "output_type": "execute_result"
    }
   ],
   "source": [
    "df_rw"
   ]
  },
  {
   "cell_type": "code",
   "execution_count": 11,
   "metadata": {},
   "outputs": [
    {
     "data": {
      "text/html": [
       "<div>\n",
       "<style scoped>\n",
       "    .dataframe tbody tr th:only-of-type {\n",
       "        vertical-align: middle;\n",
       "    }\n",
       "\n",
       "    .dataframe tbody tr th {\n",
       "        vertical-align: top;\n",
       "    }\n",
       "\n",
       "    .dataframe thead th {\n",
       "        text-align: right;\n",
       "    }\n",
       "</style>\n",
       "<table border=\"1\" class=\"dataframe\">\n",
       "  <thead>\n",
       "    <tr style=\"text-align: right;\">\n",
       "      <th></th>\n",
       "      <th>trial_num</th>\n",
       "      <th>drift 1</th>\n",
       "      <th>drift 2</th>\n",
       "      <th>drift 3</th>\n",
       "      <th>drift 4</th>\n",
       "      <th>stage 1 response (left/right)</th>\n",
       "      <th>stage 1 selected stimulus</th>\n",
       "      <th>stage 1 RT</th>\n",
       "      <th>transition (common TRUE; rare FALSE)</th>\n",
       "      <th>stage 2 response (left/right)</th>\n",
       "      <th>stage 2 selected stimulus</th>\n",
       "      <th>stage 2 state (identity 2 or 3)</th>\n",
       "      <th>stage 2 RT</th>\n",
       "      <th>reward (1 yes; 0 no)</th>\n",
       "      <th>redundant task variable, always set to 1</th>\n",
       "    </tr>\n",
       "  </thead>\n",
       "  <tbody>\n",
       "    <tr>\n",
       "      <th>0</th>\n",
       "      <td>1</td>\n",
       "      <td>0.742621470936</td>\n",
       "      <td>0.272532468277</td>\n",
       "      <td>0.71669309271</td>\n",
       "      <td>0.479056705494</td>\n",
       "      <td>left</td>\n",
       "      <td>1</td>\n",
       "      <td>1096</td>\n",
       "      <td>false</td>\n",
       "      <td>right</td>\n",
       "      <td>2</td>\n",
       "      <td>3</td>\n",
       "      <td>484</td>\n",
       "      <td>1</td>\n",
       "      <td>1</td>\n",
       "    </tr>\n",
       "    <tr>\n",
       "      <th>1</th>\n",
       "      <td>2</td>\n",
       "      <td>0.714054437546</td>\n",
       "      <td>0.28956974681</td>\n",
       "      <td>0.711770360008</td>\n",
       "      <td>0.456458310278</td>\n",
       "      <td>left</td>\n",
       "      <td>1</td>\n",
       "      <td>384</td>\n",
       "      <td>false</td>\n",
       "      <td>right</td>\n",
       "      <td>2</td>\n",
       "      <td>3</td>\n",
       "      <td>291</td>\n",
       "      <td>0</td>\n",
       "      <td>1</td>\n",
       "    </tr>\n",
       "    <tr>\n",
       "      <th>2</th>\n",
       "      <td>3</td>\n",
       "      <td>0.708947909512</td>\n",
       "      <td>0.346194423994</td>\n",
       "      <td>0.714402963935</td>\n",
       "      <td>0.46593679168</td>\n",
       "      <td>left</td>\n",
       "      <td>1</td>\n",
       "      <td>284</td>\n",
       "      <td>true</td>\n",
       "      <td>left</td>\n",
       "      <td>1</td>\n",
       "      <td>2</td>\n",
       "      <td>269</td>\n",
       "      <td>1</td>\n",
       "      <td>1</td>\n",
       "    </tr>\n",
       "    <tr>\n",
       "      <th>3</th>\n",
       "      <td>4</td>\n",
       "      <td>0.732490347346</td>\n",
       "      <td>0.339447868367</td>\n",
       "      <td>0.704013189795</td>\n",
       "      <td>0.385709276536</td>\n",
       "      <td>right</td>\n",
       "      <td>2</td>\n",
       "      <td>343</td>\n",
       "      <td>true</td>\n",
       "      <td>left</td>\n",
       "      <td>1</td>\n",
       "      <td>3</td>\n",
       "      <td>418</td>\n",
       "      <td>1</td>\n",
       "      <td>1</td>\n",
       "    </tr>\n",
       "    <tr>\n",
       "      <th>4</th>\n",
       "      <td>5</td>\n",
       "      <td>0.717249489061</td>\n",
       "      <td>0.407606752597</td>\n",
       "      <td>0.721518196281</td>\n",
       "      <td>0.422206287292</td>\n",
       "      <td>right</td>\n",
       "      <td>2</td>\n",
       "      <td>311</td>\n",
       "      <td>false</td>\n",
       "      <td>left</td>\n",
       "      <td>1</td>\n",
       "      <td>2</td>\n",
       "      <td>316</td>\n",
       "      <td>0</td>\n",
       "      <td>1</td>\n",
       "    </tr>\n",
       "    <tr>\n",
       "      <th>...</th>\n",
       "      <td>...</td>\n",
       "      <td>...</td>\n",
       "      <td>...</td>\n",
       "      <td>...</td>\n",
       "      <td>...</td>\n",
       "      <td>...</td>\n",
       "      <td>...</td>\n",
       "      <td>...</td>\n",
       "      <td>...</td>\n",
       "      <td>...</td>\n",
       "      <td>...</td>\n",
       "      <td>...</td>\n",
       "      <td>...</td>\n",
       "      <td>...</td>\n",
       "      <td>...</td>\n",
       "    </tr>\n",
       "    <tr>\n",
       "      <th>195</th>\n",
       "      <td>196</td>\n",
       "      <td>0.383792753181</td>\n",
       "      <td>0.712424710636</td>\n",
       "      <td>0.479336007569</td>\n",
       "      <td>0.387209370348</td>\n",
       "      <td>left</td>\n",
       "      <td>1</td>\n",
       "      <td>1798</td>\n",
       "      <td>true</td>\n",
       "      <td>left</td>\n",
       "      <td>1</td>\n",
       "      <td>2</td>\n",
       "      <td>740</td>\n",
       "      <td>0</td>\n",
       "      <td>1</td>\n",
       "    </tr>\n",
       "    <tr>\n",
       "      <th>196</th>\n",
       "      <td>197</td>\n",
       "      <td>0.37306997392</td>\n",
       "      <td>0.734290462084</td>\n",
       "      <td>0.460441785745</td>\n",
       "      <td>0.375364189949</td>\n",
       "      <td>left</td>\n",
       "      <td>1</td>\n",
       "      <td>773</td>\n",
       "      <td>true</td>\n",
       "      <td>right</td>\n",
       "      <td>2</td>\n",
       "      <td>2</td>\n",
       "      <td>1148</td>\n",
       "      <td>1</td>\n",
       "      <td>1</td>\n",
       "    </tr>\n",
       "    <tr>\n",
       "      <th>197</th>\n",
       "      <td>198</td>\n",
       "      <td>0.440370694377</td>\n",
       "      <td>0.747560565418</td>\n",
       "      <td>0.460608262771</td>\n",
       "      <td>0.410302321559</td>\n",
       "      <td>left</td>\n",
       "      <td>1</td>\n",
       "      <td>337</td>\n",
       "      <td>false</td>\n",
       "      <td>right</td>\n",
       "      <td>2</td>\n",
       "      <td>3</td>\n",
       "      <td>389</td>\n",
       "      <td>1</td>\n",
       "      <td>1</td>\n",
       "    </tr>\n",
       "    <tr>\n",
       "      <th>198</th>\n",
       "      <td>199</td>\n",
       "      <td>0.471404410712</td>\n",
       "      <td>0.7366478523</td>\n",
       "      <td>0.467873357418</td>\n",
       "      <td>0.375276531813</td>\n",
       "      <td>left</td>\n",
       "      <td>1</td>\n",
       "      <td>345</td>\n",
       "      <td>true</td>\n",
       "      <td>right</td>\n",
       "      <td>2</td>\n",
       "      <td>2</td>\n",
       "      <td>366</td>\n",
       "      <td>1</td>\n",
       "      <td>1</td>\n",
       "    </tr>\n",
       "    <tr>\n",
       "      <th>199</th>\n",
       "      <td>200</td>\n",
       "      <td>0.487117657235</td>\n",
       "      <td>0.736005509776</td>\n",
       "      <td>0.446751124312</td>\n",
       "      <td>0.402649308091</td>\n",
       "      <td>left</td>\n",
       "      <td>1</td>\n",
       "      <td>313</td>\n",
       "      <td>true</td>\n",
       "      <td>right</td>\n",
       "      <td>2</td>\n",
       "      <td>2</td>\n",
       "      <td>253</td>\n",
       "      <td>1</td>\n",
       "      <td>1</td>\n",
       "    </tr>\n",
       "  </tbody>\n",
       "</table>\n",
       "<p>200 rows × 15 columns</p>\n",
       "</div>"
      ],
      "text/plain": [
       "    trial_num         drift 1         drift 2         drift 3         drift 4  \\\n",
       "0           1  0.742621470936  0.272532468277   0.71669309271  0.479056705494   \n",
       "1           2  0.714054437546   0.28956974681  0.711770360008  0.456458310278   \n",
       "2           3  0.708947909512  0.346194423994  0.714402963935   0.46593679168   \n",
       "3           4  0.732490347346  0.339447868367  0.704013189795  0.385709276536   \n",
       "4           5  0.717249489061  0.407606752597  0.721518196281  0.422206287292   \n",
       "..        ...             ...             ...             ...             ...   \n",
       "195       196  0.383792753181  0.712424710636  0.479336007569  0.387209370348   \n",
       "196       197   0.37306997392  0.734290462084  0.460441785745  0.375364189949   \n",
       "197       198  0.440370694377  0.747560565418  0.460608262771  0.410302321559   \n",
       "198       199  0.471404410712    0.7366478523  0.467873357418  0.375276531813   \n",
       "199       200  0.487117657235  0.736005509776  0.446751124312  0.402649308091   \n",
       "\n",
       "    stage 1 response (left/right) stage 1 selected stimulus stage 1 RT  \\\n",
       "0                            left                         1       1096   \n",
       "1                            left                         1        384   \n",
       "2                            left                         1        284   \n",
       "3                           right                         2        343   \n",
       "4                           right                         2        311   \n",
       "..                            ...                       ...        ...   \n",
       "195                          left                         1       1798   \n",
       "196                          left                         1        773   \n",
       "197                          left                         1        337   \n",
       "198                          left                         1        345   \n",
       "199                          left                         1        313   \n",
       "\n",
       "    transition (common TRUE; rare FALSE) stage 2 response (left/right)  \\\n",
       "0                                  false                         right   \n",
       "1                                  false                         right   \n",
       "2                                   true                          left   \n",
       "3                                   true                          left   \n",
       "4                                  false                          left   \n",
       "..                                   ...                           ...   \n",
       "195                                 true                          left   \n",
       "196                                 true                         right   \n",
       "197                                false                         right   \n",
       "198                                 true                         right   \n",
       "199                                 true                         right   \n",
       "\n",
       "    stage 2 selected stimulus  stage 2 state (identity 2 or 3) stage 2 RT  \\\n",
       "0                           2                                3        484   \n",
       "1                           2                                3        291   \n",
       "2                           1                                2        269   \n",
       "3                           1                                3        418   \n",
       "4                           1                                2        316   \n",
       "..                        ...                              ...        ...   \n",
       "195                         1                                2        740   \n",
       "196                         2                                2       1148   \n",
       "197                         2                                3        389   \n",
       "198                         2                                2        366   \n",
       "199                         2                                2        253   \n",
       "\n",
       "    reward (1 yes; 0 no) redundant task variable, always set to 1  \n",
       "0                      1                                        1  \n",
       "1                      0                                        1  \n",
       "2                      1                                        1  \n",
       "3                      1                                        1  \n",
       "4                      0                                        1  \n",
       "..                   ...                                      ...  \n",
       "195                    0                                        1  \n",
       "196                    1                                        1  \n",
       "197                    1                                        1  \n",
       "198                    1                                        1  \n",
       "199                    1                                        1  \n",
       "\n",
       "[200 rows x 15 columns]"
      ]
     },
     "execution_count": 11,
     "metadata": {},
     "output_type": "execute_result"
    }
   ],
   "source": [
    "df"
   ]
  },
  {
   "cell_type": "code",
   "execution_count": 13,
   "metadata": {},
   "outputs": [
    {
     "data": {
      "text/plain": [
       "0      false\n",
       "1      false\n",
       "2       true\n",
       "3       true\n",
       "4      false\n",
       "       ...  \n",
       "195     true\n",
       "196     true\n",
       "197    false\n",
       "198     true\n",
       "199     true\n",
       "Name: transition (common TRUE; rare FALSE), Length: 200, dtype: object"
      ]
     },
     "execution_count": 13,
     "metadata": {},
     "output_type": "execute_result"
    }
   ],
   "source": [
    "df.iloc[:, 8]"
   ]
  },
  {
   "cell_type": "code",
   "execution_count": null,
   "metadata": {},
   "outputs": [],
   "source": []
  }
 ],
 "metadata": {
  "kernelspec": {
   "display_name": "base",
   "language": "python",
   "name": "python3"
  },
  "language_info": {
   "codemirror_mode": {
    "name": "ipython",
    "version": 3
   },
   "file_extension": ".py",
   "mimetype": "text/x-python",
   "name": "python",
   "nbconvert_exporter": "python",
   "pygments_lexer": "ipython3",
   "version": "3.9.13"
  }
 },
 "nbformat": 4,
 "nbformat_minor": 2
}
