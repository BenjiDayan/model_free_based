{
 "cells": [
  {
   "cell_type": "code",
   "execution_count": 1,
   "metadata": {},
   "outputs": [],
   "source": [
    "import pandas as pd\n",
    "import numpy as np\n",
    "import matplotlib.pyplot as plt\n",
    "import seaborn as sns\n",
    "\n",
    "df = pd.read_csv('data_generation_output_04_01_2024.csv')"
   ]
  },
  {
   "cell_type": "code",
   "execution_count": 31,
   "metadata": {},
   "outputs": [
    {
     "data": {
      "text/plain": [
       "(2160, 10)"
      ]
     },
     "execution_count": 31,
     "metadata": {},
     "output_type": "execute_result"
    }
   ],
   "source": [
    "df.shape"
   ]
  },
  {
   "cell_type": "code",
   "execution_count": 32,
   "metadata": {},
   "outputs": [
    {
     "data": {
      "text/html": [
       "<div>\n",
       "<style scoped>\n",
       "    .dataframe tbody tr th:only-of-type {\n",
       "        vertical-align: middle;\n",
       "    }\n",
       "\n",
       "    .dataframe tbody tr th {\n",
       "        vertical-align: top;\n",
       "    }\n",
       "\n",
       "    .dataframe thead th {\n",
       "        text-align: right;\n",
       "    }\n",
       "</style>\n",
       "<table border=\"1\" class=\"dataframe\">\n",
       "  <thead>\n",
       "    <tr style=\"text-align: right;\">\n",
       "      <th></th>\n",
       "      <th>beta_stage2</th>\n",
       "      <th>beta_mf0</th>\n",
       "      <th>beta_mf1</th>\n",
       "      <th>beta_mb</th>\n",
       "      <th>beta_stick</th>\n",
       "      <th>Q_MB_rare_prob</th>\n",
       "      <th>alpha</th>\n",
       "      <th>lam</th>\n",
       "      <th>rew_rate</th>\n",
       "      <th>rew_rate_stderr</th>\n",
       "    </tr>\n",
       "  </thead>\n",
       "  <tbody>\n",
       "    <tr>\n",
       "      <th>0</th>\n",
       "      <td>8.0</td>\n",
       "      <td>1.000000</td>\n",
       "      <td>0.0</td>\n",
       "      <td>0.000000</td>\n",
       "      <td>0.0</td>\n",
       "      <td>0.3</td>\n",
       "      <td>0.01</td>\n",
       "      <td>0.0</td>\n",
       "      <td>0.537875</td>\n",
       "      <td>0.003033</td>\n",
       "    </tr>\n",
       "    <tr>\n",
       "      <th>1</th>\n",
       "      <td>8.0</td>\n",
       "      <td>0.470393</td>\n",
       "      <td>0.0</td>\n",
       "      <td>0.529607</td>\n",
       "      <td>0.0</td>\n",
       "      <td>0.3</td>\n",
       "      <td>0.01</td>\n",
       "      <td>0.0</td>\n",
       "      <td>0.537875</td>\n",
       "      <td>0.003033</td>\n",
       "    </tr>\n",
       "    <tr>\n",
       "      <th>2</th>\n",
       "      <td>8.0</td>\n",
       "      <td>0.000000</td>\n",
       "      <td>1.0</td>\n",
       "      <td>0.000000</td>\n",
       "      <td>0.0</td>\n",
       "      <td>0.3</td>\n",
       "      <td>0.01</td>\n",
       "      <td>0.0</td>\n",
       "      <td>0.537875</td>\n",
       "      <td>0.003033</td>\n",
       "    </tr>\n",
       "    <tr>\n",
       "      <th>3</th>\n",
       "      <td>8.0</td>\n",
       "      <td>0.915705</td>\n",
       "      <td>0.0</td>\n",
       "      <td>0.084295</td>\n",
       "      <td>0.0</td>\n",
       "      <td>0.3</td>\n",
       "      <td>0.01</td>\n",
       "      <td>0.0</td>\n",
       "      <td>0.537875</td>\n",
       "      <td>0.003033</td>\n",
       "    </tr>\n",
       "    <tr>\n",
       "      <th>4</th>\n",
       "      <td>8.0</td>\n",
       "      <td>0.883900</td>\n",
       "      <td>0.0</td>\n",
       "      <td>0.116100</td>\n",
       "      <td>0.0</td>\n",
       "      <td>0.3</td>\n",
       "      <td>0.01</td>\n",
       "      <td>0.0</td>\n",
       "      <td>0.537875</td>\n",
       "      <td>0.003033</td>\n",
       "    </tr>\n",
       "  </tbody>\n",
       "</table>\n",
       "</div>"
      ],
      "text/plain": [
       "   beta_stage2  beta_mf0  beta_mf1   beta_mb  beta_stick  Q_MB_rare_prob  \\\n",
       "0          8.0  1.000000       0.0  0.000000         0.0             0.3   \n",
       "1          8.0  0.470393       0.0  0.529607         0.0             0.3   \n",
       "2          8.0  0.000000       1.0  0.000000         0.0             0.3   \n",
       "3          8.0  0.915705       0.0  0.084295         0.0             0.3   \n",
       "4          8.0  0.883900       0.0  0.116100         0.0             0.3   \n",
       "\n",
       "   alpha  lam  rew_rate  rew_rate_stderr  \n",
       "0   0.01  0.0  0.537875         0.003033  \n",
       "1   0.01  0.0  0.537875         0.003033  \n",
       "2   0.01  0.0  0.537875         0.003033  \n",
       "3   0.01  0.0  0.537875         0.003033  \n",
       "4   0.01  0.0  0.537875         0.003033  "
      ]
     },
     "execution_count": 32,
     "metadata": {},
     "output_type": "execute_result"
    }
   ],
   "source": [
    "df.head()"
   ]
  },
  {
   "cell_type": "code",
   "execution_count": 33,
   "metadata": {},
   "outputs": [],
   "source": [
    "# 31st december 1804 run used n=160\n",
    "df['rew_rate_std'] = df.rew_rate_stderr * np.sqrt(160)\n",
    "# df['lam'] = df.beta_mb + df.beta_mf0 + df.beta_mf1"
   ]
  },
  {
   "cell_type": "code",
   "execution_count": 34,
   "metadata": {},
   "outputs": [
    {
     "data": {
      "text/plain": [
       "(30, 3)"
      ]
     },
     "execution_count": 34,
     "metadata": {},
     "output_type": "execute_result"
    }
   ],
   "source": [
    "unique_betas = df.loc[df.lam == 1.0, ['beta_mf0', 'beta_mf1', 'beta_mb']].values\n",
    "unique_betas = np.unique(unique_betas, axis=0)\n",
    "unique_betas.shape"
   ]
  },
  {
   "cell_type": "code",
   "execution_count": 35,
   "metadata": {},
   "outputs": [
    {
     "name": "stdout",
     "output_type": "stream",
     "text": [
      "[0.23738708 0.76261292 0.        ]\n"
     ]
    },
    {
     "data": {
      "text/plain": [
       "(array([  14,   50,   73,  102,  134,  164,  195,  224,  255,  285,  320,\n",
       "         343,  375,  404,  435,  465,  497,  527,  554,  584,  615,  646,\n",
       "         675,  708,  737,  764,  795,  825,  855,  885,  918,  944,  980,\n",
       "        1005, 1034, 1065, 1095, 1125, 1155, 1184, 1214, 1246, 1275, 1305,\n",
       "        1334, 1363, 1394, 1424, 1455, 1485, 1515, 1547, 1573, 1603, 1633,\n",
       "        1665, 1698, 1724, 1755, 1783, 1813, 1842, 1875, 1904, 1938, 1963,\n",
       "        1995, 2024, 2053, 2084, 2115, 2145]),)"
      ]
     },
     "execution_count": 35,
     "metadata": {},
     "output_type": "execute_result"
    }
   ],
   "source": [
    "beta = unique_betas[10]\n",
    "betas = df.loc[:, ['beta_mf0', 'beta_mf1', 'beta_mb']].values\n",
    "betas.shape\n",
    "print(beta)\n",
    "np.where(np.all(betas == beta, axis=1))"
   ]
  },
  {
   "cell_type": "code",
   "execution_count": 25,
   "metadata": {},
   "outputs": [
    {
     "data": {
      "text/plain": [
       "array([1., 1., 1.])"
      ]
     },
     "execution_count": 25,
     "metadata": {},
     "output_type": "execute_result"
    }
   ],
   "source": [
    "df.lam.unique()"
   ]
  },
  {
   "cell_type": "code",
   "execution_count": 38,
   "metadata": {},
   "outputs": [
    {
     "name": "stdout",
     "output_type": "stream",
     "text": [
      "beta: [0.23738708 0.76261292 0.        ]\n"
     ]
    },
    {
     "data": {
      "text/plain": [
       "Text(0, 0.5, 'reward rate')"
      ]
     },
     "execution_count": 38,
     "metadata": {},
     "output_type": "execute_result"
    },
    {
     "data": {
      "image/png": "[encoded data removed]",
      "text/plain": [
       "<Figure size 640x480 with 1 Axes>"
      ]
     },
     "metadata": {},
     "output_type": "display_data"
    }
   ],
   "source": [
    "\n",
    "beta = unique_betas[10]\n",
    "betas = df.loc[:, ['beta_mf0', 'beta_mf1', 'beta_mb']].values\n",
    "print(f'beta: {beta}')\n",
    "beta_cond = np.all(betas == beta, axis=1)\n",
    "loc_cond = beta_cond & (df.alpha == 0.01)\n",
    "\n",
    "# sns.barplot(x='lam', y='rew_rate', data=df[loc_cond])\n",
    "x = df.loc[loc_cond, 'lam']\n",
    "x = [f'{i:.2f}' for i in x]\n",
    "y = df.loc[loc_cond, 'rew_rate']\n",
    "yerr = df.loc[loc_cond, 'rew_rate_stderr']\n",
    "plt.bar(x, y, yerr=yerr)\n",
    "plt.ylim([0.5, 0.6])\n",
    "plt.xlabel('lambda')\n",
    "plt.ylabel('reward rate')"
   ]
  },
  {
   "cell_type": "code",
   "execution_count": 40,
   "metadata": {},
   "outputs": [
    {
     "data": {
      "text/plain": [
       "[0.01,\n",
       " 0.012,\n",
       " 0.0144,\n",
       " 0.017279999999999997,\n",
       " 0.020736,\n",
       " 0.024883199999999994,\n",
       " 0.029859839999999995,\n",
       " 0.03583180799999999,\n",
       " 0.04299816959999998,\n",
       " 0.051597803519999985,\n",
       " 0.061917364223999974,\n",
       " 0.07430083706879997,\n",
       " 0.08916100448255997,\n",
       " 0.10699320537907195,\n",
       " 0.12839184645488633,\n",
       " 0.1540702157458636,\n",
       " 0.18488425889503632,\n",
       " 0.22186111067404354,\n",
       " 0.26623333280885225,\n",
       " 0.3194799993706227,\n",
       " 0.38337599924474725,\n",
       " 0.4600511990936967]"
      ]
     },
     "execution_count": 40,
     "metadata": {},
     "output_type": "execute_result"
    }
   ],
   "source": [
    "alphas = [0.01 * 1.2**i for i in range(22)]\n",
    "alphas"
   ]
  },
  {
   "cell_type": "code",
   "execution_count": 43,
   "metadata": {},
   "outputs": [
    {
     "data": {
      "text/plain": [
       "[0.0,\n",
       " 0.1,\n",
       " 0.3,\n",
       " 0.6,\n",
       " 1.1,\n",
       " 1.6,\n",
       " 2.1,\n",
       " 2.6,\n",
       " 3.1,\n",
       " 3.6,\n",
       " 4.1,\n",
       " 4.6,\n",
       " 5.1,\n",
       " 5.6,\n",
       " 6.1,\n",
       " 6.6,\n",
       " 7.1,\n",
       " 7.6,\n",
       " 8.1,\n",
       " 8.6,\n",
       " 9.1,\n",
       " 9.6,\n",
       " 10.1]"
      ]
     },
     "execution_count": 43,
     "metadata": {},
     "output_type": "execute_result"
    }
   ],
   "source": [
    "lams = [0.0, 0.1, 0.3, 0.6] + [0.6 + 0.5 * i for i in range(1, 20)]\n",
    "lams"
   ]
  },
  {
   "cell_type": "code",
   "execution_count": 61,
   "metadata": {},
   "outputs": [
    {
     "name": "stdout",
     "output_type": "stream",
     "text": [
      "40.0\n",
      "(0,) 1\n",
      "(1,) 1\n",
      "(2,) 1\n",
      "(0, 1) 20\n",
      "(0, 2) 19\n",
      "(1, 2) 19\n",
      "(0, 1, 2) 99\n"
     ]
    }
   ],
   "source": [
    "import data_generation\n",
    "betas_list = list(data_generation.unif_random_simplex_sample_with_0s(3, 160, 5, print_=True))"
   ]
  },
  {
   "cell_type": "code",
   "execution_count": 62,
   "metadata": {},
   "outputs": [
    {
     "data": {
      "image/png": "[encoded data removed]",
      "text/plain": [
       "<Figure size 640x480 with 1 Axes>"
      ]
     },
     "metadata": {},
     "output_type": "display_data"
    }
   ],
   "source": [
    "from py3simplex import plotSimplex\n",
    "bl = np.array(betas_list)\n",
    "fig = plotSimplex(bl)"
   ]
  },
  {
   "cell_type": "code",
   "execution_count": 63,
   "metadata": {},
   "outputs": [],
   "source": [
    "import h5py"
   ]
  },
  {
   "cell_type": "code",
   "execution_count": 2,
   "metadata": {},
   "outputs": [],
   "source": [
    "from data_generation import *\n",
    "kwargs = MODEL_KWARGS.copy()\n",
    "model = models.Model(**kwargs)\n",
    "outs = model.perform_trials(\n",
    "        reward_probs_list, save_Qs=False, save_probs=False, randomise=False)"
   ]
  },
  {
   "cell_type": "code",
   "execution_count": 3,
   "metadata": {},
   "outputs": [
    {
     "data": {
      "text/plain": [
       "0.495"
      ]
     },
     "execution_count": 3,
     "metadata": {},
     "output_type": "execute_result"
    }
   ],
   "source": [
    "foo = outs.values.astype(np.uint8)\n",
    "foo[:, 3].mean()"
   ]
  },
  {
   "cell_type": "code",
   "execution_count": 4,
   "metadata": {},
   "outputs": [],
   "source": [
    "manager = Manager()\n",
    "lock = manager.Lock()"
   ]
  },
  {
   "cell_type": "code",
   "execution_count": 5,
   "metadata": {},
   "outputs": [],
   "source": [
    "kwargs_list = []\n",
    "output_file = 'data_generation_output_04_01_2024_episodic.csv'\n",
    "\n",
    "for alpha in alphas:\n",
    "    for lam in lams:\n",
    "        for my_betas in betas_list:\n",
    "            # beta_mb, beta_mf0, beta_mf1 = lam * my_betas\n",
    "            beta_mb, beta_mf0, beta_mf1 = my_betas\n",
    "            kwargs = {\n",
    "                'beta_mb': beta_mb,\n",
    "                'beta_mf0': beta_mf0,\n",
    "                'beta_mf1': beta_mf1,\n",
    "                'lam': lam,\n",
    "                'alpha': alpha\n",
    "            }\n",
    "            kwargs_list.append((kwargs, output_file, 35))"
   ]
  },
  {
   "cell_type": "code",
   "execution_count": 6,
   "metadata": {},
   "outputs": [
    {
     "data": {
      "text/plain": [
       "(<AcquirerProxy object, typeid 'Lock' at 0x107721a60>,\n",
       " {'beta_mb': 1.0, 'beta_mf0': 0.0, 'beta_mf1': 0.0, 'lam': 0.0, 'alpha': 0.01},\n",
       " 'data_generation_output_04_01_2024_episodic.csv',\n",
       " 35)"
      ]
     },
     "execution_count": 6,
     "metadata": {},
     "output_type": "execute_result"
    }
   ],
   "source": [
    "al = [(lock, *args) for args in kwargs_list]\n",
    "al[0]"
   ]
  },
  {
   "cell_type": "code",
   "execution_count": 7,
   "metadata": {},
   "outputs": [
    {
     "data": {
      "text/plain": [
       "{'beta_stage2': 8.0,\n",
       " 'beta_mf0': 0.0,\n",
       " 'beta_mf1': 0.0,\n",
       " 'beta_mb': 1.0,\n",
       " 'beta_stick': 0.0,\n",
       " 'Q_MB_rare_prob': 0.3,\n",
       " 'alpha': 0.01,\n",
       " 'lam': 0.0}"
      ]
     },
     "execution_count": 7,
     "metadata": {},
     "output_type": "execute_result"
    }
   ],
   "source": [
    "do_kwargs_star(al[0])"
   ]
  },
  {
   "cell_type": "code",
   "execution_count": 8,
   "metadata": {},
   "outputs": [],
   "source": [
    "asdf = pd.read_csv('data_generation_output_04_01_2024_episodic.csv')"
   ]
  },
  {
   "cell_type": "code",
   "execution_count": 11,
   "metadata": {},
   "outputs": [
    {
     "ename": "SyntaxError",
     "evalue": "invalid syntax (<string>, line 1)",
     "output_type": "error",
     "traceback": [
      "Traceback \u001b[0;36m(most recent call last)\u001b[0m:\n",
      "  File \u001b[1;32m/opt/homebrew/anaconda3/lib/python3.9/site-packages/IPython/core/interactiveshell.py:3398\u001b[0m in \u001b[1;35mrun_code\u001b[0m\n    exec(code_obj, self.user_global_ns, self.user_ns)\n",
      "\u001b[0;36m  Input \u001b[0;32mIn [11]\u001b[0;36m in \u001b[0;35m<cell line: 1>\u001b[0;36m\u001b[0m\n\u001b[0;31m    eval(asdf.iloc[0].episode_data)\u001b[0m\n",
      "\u001b[0;36m  File \u001b[0;32m<string>:1\u001b[0;36m\u001b[0m\n\u001b[0;31m    [[0 1 1 1]\u001b[0m\n\u001b[0m        ^\u001b[0m\n\u001b[0;31mSyntaxError\u001b[0m\u001b[0;31m:\u001b[0m invalid syntax\n"
     ]
    }
   ],
   "source": [
    "eval(asdf.iloc[0].episode_data)"
   ]
  },
  {
   "cell_type": "code",
   "execution_count": 14,
   "metadata": {},
   "outputs": [
    {
     "name": "stdout",
     "output_type": "stream",
     "text": [
      "None\n"
     ]
    }
   ],
   "source": [
    "foo = {'a': 1}\n",
    "bar = {'b': 2}\n",
    "def asdf(foo):\n",
    "    foo = copy(bar.copy().update(foo)\n",
    "    print(foo)\n",
    "asdf(foo)"
   ]
  },
  {
   "cell_type": "code",
   "execution_count": 15,
   "metadata": {},
   "outputs": [
    {
     "data": {
      "text/plain": [
       "'data_generation_output_04_01_2024_episodic/e53c15cd-5bd1-4016-a18c-d43657727c61.csv'"
      ]
     },
     "execution_count": 15,
     "metadata": {},
     "output_type": "execute_result"
    }
   ],
   "source": [
    "output_folder = 'data_generation_output_04_01_2024_episodic'\n",
    "fns = os.listdir(output_folder)\n",
    "fns = [os.path.join(output_folder, fn) for fn in fns]\n",
    "fns[0]"
   ]
  },
  {
   "cell_type": "code",
   "execution_count": 17,
   "metadata": {},
   "outputs": [
    {
     "data": {
      "text/html": [
       "<div>\n",
       "<style scoped>\n",
       "    .dataframe tbody tr th:only-of-type {\n",
       "        vertical-align: middle;\n",
       "    }\n",
       "\n",
       "    .dataframe tbody tr th {\n",
       "        vertical-align: top;\n",
       "    }\n",
       "\n",
       "    .dataframe thead th {\n",
       "        text-align: right;\n",
       "    }\n",
       "</style>\n",
       "<table border=\"1\" class=\"dataframe\">\n",
       "  <thead>\n",
       "    <tr style=\"text-align: right;\">\n",
       "      <th></th>\n",
       "      <th>beta_mb</th>\n",
       "      <th>beta_mf0</th>\n",
       "      <th>beta_mf1</th>\n",
       "      <th>lam</th>\n",
       "      <th>alpha</th>\n",
       "      <th>beta_stage2</th>\n",
       "      <th>beta_stick</th>\n",
       "      <th>Q_MB_rare_prob</th>\n",
       "      <th>episode_reward_rate</th>\n",
       "      <th>episode_data</th>\n",
       "    </tr>\n",
       "  </thead>\n",
       "  <tbody>\n",
       "    <tr>\n",
       "      <th>0</th>\n",
       "      <td>0.167987</td>\n",
       "      <td>0.783813</td>\n",
       "      <td>0.0482</td>\n",
       "      <td>0.0</td>\n",
       "      <td>0.01</td>\n",
       "      <td>8.0</td>\n",
       "      <td>0.0</td>\n",
       "      <td>0.3</td>\n",
       "      <td>0.495</td>\n",
       "      <td>[[0 0 0 0]\\n [1 0 1 0]\\n [0 0 0 0]\\n [1 1 1 1]...</td>\n",
       "    </tr>\n",
       "    <tr>\n",
       "      <th>1</th>\n",
       "      <td>0.167987</td>\n",
       "      <td>0.783813</td>\n",
       "      <td>0.0482</td>\n",
       "      <td>0.0</td>\n",
       "      <td>0.01</td>\n",
       "      <td>8.0</td>\n",
       "      <td>0.0</td>\n",
       "      <td>0.3</td>\n",
       "      <td>0.495</td>\n",
       "      <td>[[0 0 0 0]\\n [1 1 0 1]\\n [0 1 0 1]\\n [0 0 0 1]...</td>\n",
       "    </tr>\n",
       "    <tr>\n",
       "      <th>2</th>\n",
       "      <td>0.167987</td>\n",
       "      <td>0.783813</td>\n",
       "      <td>0.0482</td>\n",
       "      <td>0.0</td>\n",
       "      <td>0.01</td>\n",
       "      <td>8.0</td>\n",
       "      <td>0.0</td>\n",
       "      <td>0.3</td>\n",
       "      <td>0.530</td>\n",
       "      <td>[[0 1 0 1]\\n [1 0 1 0]\\n [0 1 1 0]\\n [1 1 0 0]...</td>\n",
       "    </tr>\n",
       "    <tr>\n",
       "      <th>3</th>\n",
       "      <td>0.167987</td>\n",
       "      <td>0.783813</td>\n",
       "      <td>0.0482</td>\n",
       "      <td>0.0</td>\n",
       "      <td>0.01</td>\n",
       "      <td>8.0</td>\n",
       "      <td>0.0</td>\n",
       "      <td>0.3</td>\n",
       "      <td>0.605</td>\n",
       "      <td>[[0 0 0 1]\\n [1 1 0 1]\\n [0 0 0 1]\\n [0 1 0 1]...</td>\n",
       "    </tr>\n",
       "    <tr>\n",
       "      <th>4</th>\n",
       "      <td>0.167987</td>\n",
       "      <td>0.783813</td>\n",
       "      <td>0.0482</td>\n",
       "      <td>0.0</td>\n",
       "      <td>0.01</td>\n",
       "      <td>8.0</td>\n",
       "      <td>0.0</td>\n",
       "      <td>0.3</td>\n",
       "      <td>0.590</td>\n",
       "      <td>[[1 1 0 0]\\n [0 1 0 1]\\n [0 0 1 1]\\n [1 1 0 1]...</td>\n",
       "    </tr>\n",
       "    <tr>\n",
       "      <th>5</th>\n",
       "      <td>0.167987</td>\n",
       "      <td>0.783813</td>\n",
       "      <td>0.0482</td>\n",
       "      <td>0.0</td>\n",
       "      <td>0.01</td>\n",
       "      <td>8.0</td>\n",
       "      <td>0.0</td>\n",
       "      <td>0.3</td>\n",
       "      <td>0.530</td>\n",
       "      <td>[[1 0 1 0]\\n [1 1 1 0]\\n [0 0 0 1]\\n [1 0 1 1]...</td>\n",
       "    </tr>\n",
       "    <tr>\n",
       "      <th>6</th>\n",
       "      <td>0.167987</td>\n",
       "      <td>0.783813</td>\n",
       "      <td>0.0482</td>\n",
       "      <td>0.0</td>\n",
       "      <td>0.01</td>\n",
       "      <td>8.0</td>\n",
       "      <td>0.0</td>\n",
       "      <td>0.3</td>\n",
       "      <td>0.580</td>\n",
       "      <td>[[0 1 0 1]\\n [0 1 1 1]\\n [0 1 1 1]\\n [0 1 0 1]...</td>\n",
       "    </tr>\n",
       "    <tr>\n",
       "      <th>7</th>\n",
       "      <td>0.167987</td>\n",
       "      <td>0.783813</td>\n",
       "      <td>0.0482</td>\n",
       "      <td>0.0</td>\n",
       "      <td>0.01</td>\n",
       "      <td>8.0</td>\n",
       "      <td>0.0</td>\n",
       "      <td>0.3</td>\n",
       "      <td>0.465</td>\n",
       "      <td>[[0 0 0 0]\\n [0 0 1 0]\\n [0 0 1 0]\\n [0 1 1 0]...</td>\n",
       "    </tr>\n",
       "    <tr>\n",
       "      <th>8</th>\n",
       "      <td>0.167987</td>\n",
       "      <td>0.783813</td>\n",
       "      <td>0.0482</td>\n",
       "      <td>0.0</td>\n",
       "      <td>0.01</td>\n",
       "      <td>8.0</td>\n",
       "      <td>0.0</td>\n",
       "      <td>0.3</td>\n",
       "      <td>0.565</td>\n",
       "      <td>[[1 1 0 1]\\n [0 0 0 1]\\n [1 1 1 0]\\n [0 0 0 1]...</td>\n",
       "    </tr>\n",
       "    <tr>\n",
       "      <th>9</th>\n",
       "      <td>0.167987</td>\n",
       "      <td>0.783813</td>\n",
       "      <td>0.0482</td>\n",
       "      <td>0.0</td>\n",
       "      <td>0.01</td>\n",
       "      <td>8.0</td>\n",
       "      <td>0.0</td>\n",
       "      <td>0.3</td>\n",
       "      <td>0.595</td>\n",
       "      <td>[[1 1 1 0]\\n [0 1 1 1]\\n [0 1 0 1]\\n [0 1 0 1]...</td>\n",
       "    </tr>\n",
       "    <tr>\n",
       "      <th>10</th>\n",
       "      <td>0.167987</td>\n",
       "      <td>0.783813</td>\n",
       "      <td>0.0482</td>\n",
       "      <td>0.0</td>\n",
       "      <td>0.01</td>\n",
       "      <td>8.0</td>\n",
       "      <td>0.0</td>\n",
       "      <td>0.3</td>\n",
       "      <td>0.570</td>\n",
       "      <td>[[1 1 0 1]\\n [1 1 1 0]\\n [1 0 0 1]\\n [0 0 1 0]...</td>\n",
       "    </tr>\n",
       "    <tr>\n",
       "      <th>11</th>\n",
       "      <td>0.167987</td>\n",
       "      <td>0.783813</td>\n",
       "      <td>0.0482</td>\n",
       "      <td>0.0</td>\n",
       "      <td>0.01</td>\n",
       "      <td>8.0</td>\n",
       "      <td>0.0</td>\n",
       "      <td>0.3</td>\n",
       "      <td>0.475</td>\n",
       "      <td>[[1 1 1 0]\\n [1 1 0 0]\\n [1 1 1 0]\\n [0 0 0 1]...</td>\n",
       "    </tr>\n",
       "    <tr>\n",
       "      <th>12</th>\n",
       "      <td>0.167987</td>\n",
       "      <td>0.783813</td>\n",
       "      <td>0.0482</td>\n",
       "      <td>0.0</td>\n",
       "      <td>0.01</td>\n",
       "      <td>8.0</td>\n",
       "      <td>0.0</td>\n",
       "      <td>0.3</td>\n",
       "      <td>0.495</td>\n",
       "      <td>[[1 1 1 1]\\n [0 0 0 1]\\n [0 0 0 1]\\n [0 0 0 0]...</td>\n",
       "    </tr>\n",
       "    <tr>\n",
       "      <th>13</th>\n",
       "      <td>0.167987</td>\n",
       "      <td>0.783813</td>\n",
       "      <td>0.0482</td>\n",
       "      <td>0.0</td>\n",
       "      <td>0.01</td>\n",
       "      <td>8.0</td>\n",
       "      <td>0.0</td>\n",
       "      <td>0.3</td>\n",
       "      <td>0.465</td>\n",
       "      <td>[[0 0 1 0]\\n [0 1 0 1]\\n [1 1 1 0]\\n [1 1 1 1]...</td>\n",
       "    </tr>\n",
       "    <tr>\n",
       "      <th>14</th>\n",
       "      <td>0.167987</td>\n",
       "      <td>0.783813</td>\n",
       "      <td>0.0482</td>\n",
       "      <td>0.0</td>\n",
       "      <td>0.01</td>\n",
       "      <td>8.0</td>\n",
       "      <td>0.0</td>\n",
       "      <td>0.3</td>\n",
       "      <td>0.555</td>\n",
       "      <td>[[1 1 0 0]\\n [0 1 0 1]\\n [0 0 0 1]\\n [1 0 1 1]...</td>\n",
       "    </tr>\n",
       "    <tr>\n",
       "      <th>15</th>\n",
       "      <td>0.167987</td>\n",
       "      <td>0.783813</td>\n",
       "      <td>0.0482</td>\n",
       "      <td>0.0</td>\n",
       "      <td>0.01</td>\n",
       "      <td>8.0</td>\n",
       "      <td>0.0</td>\n",
       "      <td>0.3</td>\n",
       "      <td>0.605</td>\n",
       "      <td>[[0 0 1 1]\\n [0 0 1 1]\\n [1 1 1 0]\\n [0 0 0 0]...</td>\n",
       "    </tr>\n",
       "    <tr>\n",
       "      <th>16</th>\n",
       "      <td>0.167987</td>\n",
       "      <td>0.783813</td>\n",
       "      <td>0.0482</td>\n",
       "      <td>0.0</td>\n",
       "      <td>0.01</td>\n",
       "      <td>8.0</td>\n",
       "      <td>0.0</td>\n",
       "      <td>0.3</td>\n",
       "      <td>0.520</td>\n",
       "      <td>[[0 0 0 1]\\n [0 1 0 1]\\n [1 1 0 1]\\n [1 0 1 0]...</td>\n",
       "    </tr>\n",
       "    <tr>\n",
       "      <th>17</th>\n",
       "      <td>0.167987</td>\n",
       "      <td>0.783813</td>\n",
       "      <td>0.0482</td>\n",
       "      <td>0.0</td>\n",
       "      <td>0.01</td>\n",
       "      <td>8.0</td>\n",
       "      <td>0.0</td>\n",
       "      <td>0.3</td>\n",
       "      <td>0.530</td>\n",
       "      <td>[[1 1 1 0]\\n [0 0 0 1]\\n [0 0 1 0]\\n [0 1 0 0]...</td>\n",
       "    </tr>\n",
       "    <tr>\n",
       "      <th>18</th>\n",
       "      <td>0.167987</td>\n",
       "      <td>0.783813</td>\n",
       "      <td>0.0482</td>\n",
       "      <td>0.0</td>\n",
       "      <td>0.01</td>\n",
       "      <td>8.0</td>\n",
       "      <td>0.0</td>\n",
       "      <td>0.3</td>\n",
       "      <td>0.490</td>\n",
       "      <td>[[0 0 0 1]\\n [1 1 0 1]\\n [0 1 1 1]\\n [0 1 1 1]...</td>\n",
       "    </tr>\n",
       "    <tr>\n",
       "      <th>19</th>\n",
       "      <td>0.167987</td>\n",
       "      <td>0.783813</td>\n",
       "      <td>0.0482</td>\n",
       "      <td>0.0</td>\n",
       "      <td>0.01</td>\n",
       "      <td>8.0</td>\n",
       "      <td>0.0</td>\n",
       "      <td>0.3</td>\n",
       "      <td>0.465</td>\n",
       "      <td>[[1 1 1 0]\\n [1 1 0 0]\\n [1 1 0 1]\\n [0 0 0 1]...</td>\n",
       "    </tr>\n",
       "    <tr>\n",
       "      <th>20</th>\n",
       "      <td>0.167987</td>\n",
       "      <td>0.783813</td>\n",
       "      <td>0.0482</td>\n",
       "      <td>0.0</td>\n",
       "      <td>0.01</td>\n",
       "      <td>8.0</td>\n",
       "      <td>0.0</td>\n",
       "      <td>0.3</td>\n",
       "      <td>0.575</td>\n",
       "      <td>[[0 1 1 1]\\n [0 0 1 1]\\n [0 0 1 0]\\n [0 0 0 1]...</td>\n",
       "    </tr>\n",
       "    <tr>\n",
       "      <th>21</th>\n",
       "      <td>0.167987</td>\n",
       "      <td>0.783813</td>\n",
       "      <td>0.0482</td>\n",
       "      <td>0.0</td>\n",
       "      <td>0.01</td>\n",
       "      <td>8.0</td>\n",
       "      <td>0.0</td>\n",
       "      <td>0.3</td>\n",
       "      <td>0.565</td>\n",
       "      <td>[[0 0 1 0]\\n [0 1 0 1]\\n [1 1 0 1]\\n [1 1 0 0]...</td>\n",
       "    </tr>\n",
       "    <tr>\n",
       "      <th>22</th>\n",
       "      <td>0.167987</td>\n",
       "      <td>0.783813</td>\n",
       "      <td>0.0482</td>\n",
       "      <td>0.0</td>\n",
       "      <td>0.01</td>\n",
       "      <td>8.0</td>\n",
       "      <td>0.0</td>\n",
       "      <td>0.3</td>\n",
       "      <td>0.560</td>\n",
       "      <td>[[0 0 0 1]\\n [1 0 1 1]\\n [0 1 0 1]\\n [0 1 1 1]...</td>\n",
       "    </tr>\n",
       "    <tr>\n",
       "      <th>23</th>\n",
       "      <td>0.167987</td>\n",
       "      <td>0.783813</td>\n",
       "      <td>0.0482</td>\n",
       "      <td>0.0</td>\n",
       "      <td>0.01</td>\n",
       "      <td>8.0</td>\n",
       "      <td>0.0</td>\n",
       "      <td>0.3</td>\n",
       "      <td>0.560</td>\n",
       "      <td>[[1 1 1 1]\\n [0 0 0 1]\\n [1 1 1 0]\\n [0 0 1 0]...</td>\n",
       "    </tr>\n",
       "    <tr>\n",
       "      <th>24</th>\n",
       "      <td>0.167987</td>\n",
       "      <td>0.783813</td>\n",
       "      <td>0.0482</td>\n",
       "      <td>0.0</td>\n",
       "      <td>0.01</td>\n",
       "      <td>8.0</td>\n",
       "      <td>0.0</td>\n",
       "      <td>0.3</td>\n",
       "      <td>0.580</td>\n",
       "      <td>[[0 0 1 0]\\n [0 1 0 1]\\n [0 0 1 0]\\n [0 1 1 0]...</td>\n",
       "    </tr>\n",
       "    <tr>\n",
       "      <th>25</th>\n",
       "      <td>0.167987</td>\n",
       "      <td>0.783813</td>\n",
       "      <td>0.0482</td>\n",
       "      <td>0.0</td>\n",
       "      <td>0.01</td>\n",
       "      <td>8.0</td>\n",
       "      <td>0.0</td>\n",
       "      <td>0.3</td>\n",
       "      <td>0.530</td>\n",
       "      <td>[[0 0 0 1]\\n [1 1 1 0]\\n [1 1 1 0]\\n [0 0 1 1]...</td>\n",
       "    </tr>\n",
       "    <tr>\n",
       "      <th>26</th>\n",
       "      <td>0.167987</td>\n",
       "      <td>0.783813</td>\n",
       "      <td>0.0482</td>\n",
       "      <td>0.0</td>\n",
       "      <td>0.01</td>\n",
       "      <td>8.0</td>\n",
       "      <td>0.0</td>\n",
       "      <td>0.3</td>\n",
       "      <td>0.530</td>\n",
       "      <td>[[1 0 0 1]\\n [0 0 0 0]\\n [1 0 1 1]\\n [0 0 0 1]...</td>\n",
       "    </tr>\n",
       "    <tr>\n",
       "      <th>27</th>\n",
       "      <td>0.167987</td>\n",
       "      <td>0.783813</td>\n",
       "      <td>0.0482</td>\n",
       "      <td>0.0</td>\n",
       "      <td>0.01</td>\n",
       "      <td>8.0</td>\n",
       "      <td>0.0</td>\n",
       "      <td>0.3</td>\n",
       "      <td>0.495</td>\n",
       "      <td>[[1 0 0 1]\\n [0 0 0 1]\\n [0 0 0 1]\\n [0 0 1 1]...</td>\n",
       "    </tr>\n",
       "    <tr>\n",
       "      <th>28</th>\n",
       "      <td>0.167987</td>\n",
       "      <td>0.783813</td>\n",
       "      <td>0.0482</td>\n",
       "      <td>0.0</td>\n",
       "      <td>0.01</td>\n",
       "      <td>8.0</td>\n",
       "      <td>0.0</td>\n",
       "      <td>0.3</td>\n",
       "      <td>0.500</td>\n",
       "      <td>[[0 1 1 0]\\n [0 0 1 0]\\n [1 0 0 1]\\n [1 1 1 1]...</td>\n",
       "    </tr>\n",
       "    <tr>\n",
       "      <th>29</th>\n",
       "      <td>0.167987</td>\n",
       "      <td>0.783813</td>\n",
       "      <td>0.0482</td>\n",
       "      <td>0.0</td>\n",
       "      <td>0.01</td>\n",
       "      <td>8.0</td>\n",
       "      <td>0.0</td>\n",
       "      <td>0.3</td>\n",
       "      <td>0.515</td>\n",
       "      <td>[[1 0 1 0]\\n [1 0 0 0]\\n [0 0 1 0]\\n [0 0 0 1]...</td>\n",
       "    </tr>\n",
       "    <tr>\n",
       "      <th>30</th>\n",
       "      <td>0.167987</td>\n",
       "      <td>0.783813</td>\n",
       "      <td>0.0482</td>\n",
       "      <td>0.0</td>\n",
       "      <td>0.01</td>\n",
       "      <td>8.0</td>\n",
       "      <td>0.0</td>\n",
       "      <td>0.3</td>\n",
       "      <td>0.545</td>\n",
       "      <td>[[0 0 1 0]\\n [0 0 0 0]\\n [1 0 0 1]\\n [1 1 1 1]...</td>\n",
       "    </tr>\n",
       "    <tr>\n",
       "      <th>31</th>\n",
       "      <td>0.167987</td>\n",
       "      <td>0.783813</td>\n",
       "      <td>0.0482</td>\n",
       "      <td>0.0</td>\n",
       "      <td>0.01</td>\n",
       "      <td>8.0</td>\n",
       "      <td>0.0</td>\n",
       "      <td>0.3</td>\n",
       "      <td>0.480</td>\n",
       "      <td>[[0 1 1 1]\\n [0 0 0 0]\\n [1 1 0 1]\\n [0 1 0 1]...</td>\n",
       "    </tr>\n",
       "    <tr>\n",
       "      <th>32</th>\n",
       "      <td>0.167987</td>\n",
       "      <td>0.783813</td>\n",
       "      <td>0.0482</td>\n",
       "      <td>0.0</td>\n",
       "      <td>0.01</td>\n",
       "      <td>8.0</td>\n",
       "      <td>0.0</td>\n",
       "      <td>0.3</td>\n",
       "      <td>0.565</td>\n",
       "      <td>[[1 0 1 0]\\n [1 0 1 1]\\n [0 0 1 0]\\n [1 0 1 0]...</td>\n",
       "    </tr>\n",
       "    <tr>\n",
       "      <th>33</th>\n",
       "      <td>0.167987</td>\n",
       "      <td>0.783813</td>\n",
       "      <td>0.0482</td>\n",
       "      <td>0.0</td>\n",
       "      <td>0.01</td>\n",
       "      <td>8.0</td>\n",
       "      <td>0.0</td>\n",
       "      <td>0.3</td>\n",
       "      <td>0.505</td>\n",
       "      <td>[[1 1 1 0]\\n [1 0 1 0]\\n [1 1 1 1]\\n [1 1 0 1]...</td>\n",
       "    </tr>\n",
       "    <tr>\n",
       "      <th>34</th>\n",
       "      <td>0.167987</td>\n",
       "      <td>0.783813</td>\n",
       "      <td>0.0482</td>\n",
       "      <td>0.0</td>\n",
       "      <td>0.01</td>\n",
       "      <td>8.0</td>\n",
       "      <td>0.0</td>\n",
       "      <td>0.3</td>\n",
       "      <td>0.525</td>\n",
       "      <td>[[1 1 1 1]\\n [0 1 0 1]\\n [1 1 1 0]\\n [0 1 0 1]...</td>\n",
       "    </tr>\n",
       "  </tbody>\n",
       "</table>\n",
       "</div>"
      ],
      "text/plain": [
       "     beta_mb  beta_mf0  beta_mf1  lam  alpha  beta_stage2  beta_stick  \\\n",
       "0   0.167987  0.783813    0.0482  0.0   0.01          8.0         0.0   \n",
       "1   0.167987  0.783813    0.0482  0.0   0.01          8.0         0.0   \n",
       "2   0.167987  0.783813    0.0482  0.0   0.01          8.0         0.0   \n",
       "3   0.167987  0.783813    0.0482  0.0   0.01          8.0         0.0   \n",
       "4   0.167987  0.783813    0.0482  0.0   0.01          8.0         0.0   \n",
       "5   0.167987  0.783813    0.0482  0.0   0.01          8.0         0.0   \n",
       "6   0.167987  0.783813    0.0482  0.0   0.01          8.0         0.0   \n",
       "7   0.167987  0.783813    0.0482  0.0   0.01          8.0         0.0   \n",
       "8   0.167987  0.783813    0.0482  0.0   0.01          8.0         0.0   \n",
       "9   0.167987  0.783813    0.0482  0.0   0.01          8.0         0.0   \n",
       "10  0.167987  0.783813    0.0482  0.0   0.01          8.0         0.0   \n",
       "11  0.167987  0.783813    0.0482  0.0   0.01          8.0         0.0   \n",
       "12  0.167987  0.783813    0.0482  0.0   0.01          8.0         0.0   \n",
       "13  0.167987  0.783813    0.0482  0.0   0.01          8.0         0.0   \n",
       "14  0.167987  0.783813    0.0482  0.0   0.01          8.0         0.0   \n",
       "15  0.167987  0.783813    0.0482  0.0   0.01          8.0         0.0   \n",
       "16  0.167987  0.783813    0.0482  0.0   0.01          8.0         0.0   \n",
       "17  0.167987  0.783813    0.0482  0.0   0.01          8.0         0.0   \n",
       "18  0.167987  0.783813    0.0482  0.0   0.01          8.0         0.0   \n",
       "19  0.167987  0.783813    0.0482  0.0   0.01          8.0         0.0   \n",
       "20  0.167987  0.783813    0.0482  0.0   0.01          8.0         0.0   \n",
       "21  0.167987  0.783813    0.0482  0.0   0.01          8.0         0.0   \n",
       "22  0.167987  0.783813    0.0482  0.0   0.01          8.0         0.0   \n",
       "23  0.167987  0.783813    0.0482  0.0   0.01          8.0         0.0   \n",
       "24  0.167987  0.783813    0.0482  0.0   0.01          8.0         0.0   \n",
       "25  0.167987  0.783813    0.0482  0.0   0.01          8.0         0.0   \n",
       "26  0.167987  0.783813    0.0482  0.0   0.01          8.0         0.0   \n",
       "27  0.167987  0.783813    0.0482  0.0   0.01          8.0         0.0   \n",
       "28  0.167987  0.783813    0.0482  0.0   0.01          8.0         0.0   \n",
       "29  0.167987  0.783813    0.0482  0.0   0.01          8.0         0.0   \n",
       "30  0.167987  0.783813    0.0482  0.0   0.01          8.0         0.0   \n",
       "31  0.167987  0.783813    0.0482  0.0   0.01          8.0         0.0   \n",
       "32  0.167987  0.783813    0.0482  0.0   0.01          8.0         0.0   \n",
       "33  0.167987  0.783813    0.0482  0.0   0.01          8.0         0.0   \n",
       "34  0.167987  0.783813    0.0482  0.0   0.01          8.0         0.0   \n",
       "\n",
       "    Q_MB_rare_prob  episode_reward_rate  \\\n",
       "0              0.3                0.495   \n",
       "1              0.3                0.495   \n",
       "2              0.3                0.530   \n",
       "3              0.3                0.605   \n",
       "4              0.3                0.590   \n",
       "5              0.3                0.530   \n",
       "6              0.3                0.580   \n",
       "7              0.3                0.465   \n",
       "8              0.3                0.565   \n",
       "9              0.3                0.595   \n",
       "10             0.3                0.570   \n",
       "11             0.3                0.475   \n",
       "12             0.3                0.495   \n",
       "13             0.3                0.465   \n",
       "14             0.3                0.555   \n",
       "15             0.3                0.605   \n",
       "16             0.3                0.520   \n",
       "17             0.3                0.530   \n",
       "18             0.3                0.490   \n",
       "19             0.3                0.465   \n",
       "20             0.3                0.575   \n",
       "21             0.3                0.565   \n",
       "22             0.3                0.560   \n",
       "23             0.3                0.560   \n",
       "24             0.3                0.580   \n",
       "25             0.3                0.530   \n",
       "26             0.3                0.530   \n",
       "27             0.3                0.495   \n",
       "28             0.3                0.500   \n",
       "29             0.3                0.515   \n",
       "30             0.3                0.545   \n",
       "31             0.3                0.480   \n",
       "32             0.3                0.565   \n",
       "33             0.3                0.505   \n",
       "34             0.3                0.525   \n",
       "\n",
       "                                         episode_data  \n",
       "0   [[0 0 0 0]\\n [1 0 1 0]\\n [0 0 0 0]\\n [1 1 1 1]...  \n",
       "1   [[0 0 0 0]\\n [1 1 0 1]\\n [0 1 0 1]\\n [0 0 0 1]...  \n",
       "2   [[0 1 0 1]\\n [1 0 1 0]\\n [0 1 1 0]\\n [1 1 0 0]...  \n",
       "3   [[0 0 0 1]\\n [1 1 0 1]\\n [0 0 0 1]\\n [0 1 0 1]...  \n",
       "4   [[1 1 0 0]\\n [0 1 0 1]\\n [0 0 1 1]\\n [1 1 0 1]...  \n",
       "5   [[1 0 1 0]\\n [1 1 1 0]\\n [0 0 0 1]\\n [1 0 1 1]...  \n",
       "6   [[0 1 0 1]\\n [0 1 1 1]\\n [0 1 1 1]\\n [0 1 0 1]...  \n",
       "7   [[0 0 0 0]\\n [0 0 1 0]\\n [0 0 1 0]\\n [0 1 1 0]...  \n",
       "8   [[1 1 0 1]\\n [0 0 0 1]\\n [1 1 1 0]\\n [0 0 0 1]...  \n",
       "9   [[1 1 1 0]\\n [0 1 1 1]\\n [0 1 0 1]\\n [0 1 0 1]...  \n",
       "10  [[1 1 0 1]\\n [1 1 1 0]\\n [1 0 0 1]\\n [0 0 1 0]...  \n",
       "11  [[1 1 1 0]\\n [1 1 0 0]\\n [1 1 1 0]\\n [0 0 0 1]...  \n",
       "12  [[1 1 1 1]\\n [0 0 0 1]\\n [0 0 0 1]\\n [0 0 0 0]...  \n",
       "13  [[0 0 1 0]\\n [0 1 0 1]\\n [1 1 1 0]\\n [1 1 1 1]...  \n",
       "14  [[1 1 0 0]\\n [0 1 0 1]\\n [0 0 0 1]\\n [1 0 1 1]...  \n",
       "15  [[0 0 1 1]\\n [0 0 1 1]\\n [1 1 1 0]\\n [0 0 0 0]...  \n",
       "16  [[0 0 0 1]\\n [0 1 0 1]\\n [1 1 0 1]\\n [1 0 1 0]...  \n",
       "17  [[1 1 1 0]\\n [0 0 0 1]\\n [0 0 1 0]\\n [0 1 0 0]...  \n",
       "18  [[0 0 0 1]\\n [1 1 0 1]\\n [0 1 1 1]\\n [0 1 1 1]...  \n",
       "19  [[1 1 1 0]\\n [1 1 0 0]\\n [1 1 0 1]\\n [0 0 0 1]...  \n",
       "20  [[0 1 1 1]\\n [0 0 1 1]\\n [0 0 1 0]\\n [0 0 0 1]...  \n",
       "21  [[0 0 1 0]\\n [0 1 0 1]\\n [1 1 0 1]\\n [1 1 0 0]...  \n",
       "22  [[0 0 0 1]\\n [1 0 1 1]\\n [0 1 0 1]\\n [0 1 1 1]...  \n",
       "23  [[1 1 1 1]\\n [0 0 0 1]\\n [1 1 1 0]\\n [0 0 1 0]...  \n",
       "24  [[0 0 1 0]\\n [0 1 0 1]\\n [0 0 1 0]\\n [0 1 1 0]...  \n",
       "25  [[0 0 0 1]\\n [1 1 1 0]\\n [1 1 1 0]\\n [0 0 1 1]...  \n",
       "26  [[1 0 0 1]\\n [0 0 0 0]\\n [1 0 1 1]\\n [0 0 0 1]...  \n",
       "27  [[1 0 0 1]\\n [0 0 0 1]\\n [0 0 0 1]\\n [0 0 1 1]...  \n",
       "28  [[0 1 1 0]\\n [0 0 1 0]\\n [1 0 0 1]\\n [1 1 1 1]...  \n",
       "29  [[1 0 1 0]\\n [1 0 0 0]\\n [0 0 1 0]\\n [0 0 0 1]...  \n",
       "30  [[0 0 1 0]\\n [0 0 0 0]\\n [1 0 0 1]\\n [1 1 1 1]...  \n",
       "31  [[0 1 1 1]\\n [0 0 0 0]\\n [1 1 0 1]\\n [0 1 0 1]...  \n",
       "32  [[1 0 1 0]\\n [1 0 1 1]\\n [0 0 1 0]\\n [1 0 1 0]...  \n",
       "33  [[1 1 1 0]\\n [1 0 1 0]\\n [1 1 1 1]\\n [1 1 0 1]...  \n",
       "34  [[1 1 1 1]\\n [0 1 0 1]\\n [1 1 1 0]\\n [0 1 0 1]...  "
      ]
     },
     "execution_count": 17,
     "metadata": {},
     "output_type": "execute_result"
    }
   ],
   "source": [
    "temp = pd.read_csv(fns[0])\n",
    "temp"
   ]
  },
  {
   "cell_type": "code",
   "execution_count": 12,
   "metadata": {},
   "outputs": [
    {
     "data": {
      "text/plain": [
       "'f861f014-d063-4747-a010-28706bd031c5.csv'"
      ]
     },
     "execution_count": 12,
     "metadata": {},
     "output_type": "execute_result"
    }
   ],
   "source": [
    "import uuid\n",
    "str(uuid.uuid4()) + '.csv'"
   ]
  },
  {
   "cell_type": "code",
   "execution_count": 8,
   "metadata": {},
   "outputs": [],
   "source": [
    "lock, kwargs, output_file, n = al[0]\n",
    "episodes_data, full_kwargs = model_reward(kwargs, n=n)\n",
    "reward_rates = [episode_data[:, 3].mean() for episode_data in episodes_data]\n",
    "# do_kwargs_star(al[0])"
   ]
  },
  {
   "cell_type": "code",
   "execution_count": 14,
   "metadata": {},
   "outputs": [
    {
     "data": {
      "text/plain": [
       "35"
      ]
     },
     "execution_count": 14,
     "metadata": {},
     "output_type": "execute_result"
    },
    {
     "data": {
      "text/plain": [
       "(200, 4)"
      ]
     },
     "execution_count": 14,
     "metadata": {},
     "output_type": "execute_result"
    },
    {
     "data": {
      "text/plain": [
       "35"
      ]
     },
     "execution_count": 14,
     "metadata": {},
     "output_type": "execute_result"
    }
   ],
   "source": [
    "len(episodes_data)\n",
    "episodes_data[0].shape\n",
    "len(reward_rates)"
   ]
  },
  {
   "cell_type": "code",
   "execution_count": 20,
   "metadata": {},
   "outputs": [],
   "source": [
    "a = pd.Series(episodes_data)\n",
    "b = pd.Series(reward_rates)\n",
    "c = pd.DataFrame([full_kwargs] * len(reward_rates), columns=full_kwargs.keys())"
   ]
  },
  {
   "cell_type": "code",
   "execution_count": 24,
   "metadata": {},
   "outputs": [
    {
     "data": {
      "text/html": [
       "<div>\n",
       "<style scoped>\n",
       "    .dataframe tbody tr th:only-of-type {\n",
       "        vertical-align: middle;\n",
       "    }\n",
       "\n",
       "    .dataframe tbody tr th {\n",
       "        vertical-align: top;\n",
       "    }\n",
       "\n",
       "    .dataframe thead th {\n",
       "        text-align: right;\n",
       "    }\n",
       "</style>\n",
       "<table border=\"1\" class=\"dataframe\">\n",
       "  <thead>\n",
       "    <tr style=\"text-align: right;\">\n",
       "      <th></th>\n",
       "      <th>episode_data</th>\n",
       "      <th>episode_reward_rate</th>\n",
       "      <th>beta_stage2</th>\n",
       "      <th>beta_mf0</th>\n",
       "      <th>beta_mf1</th>\n",
       "      <th>beta_mb</th>\n",
       "      <th>beta_stick</th>\n",
       "      <th>Q_MB_rare_prob</th>\n",
       "      <th>alpha</th>\n",
       "      <th>lam</th>\n",
       "    </tr>\n",
       "  </thead>\n",
       "  <tbody>\n",
       "    <tr>\n",
       "      <th>0</th>\n",
       "      <td>[[0, 0, 1, 0], [0, 1, 0, 1], [0, 0, 1, 1], [0,...</td>\n",
       "      <td>0.550</td>\n",
       "      <td>8.0</td>\n",
       "      <td>0.0</td>\n",
       "      <td>0.0</td>\n",
       "      <td>1.0</td>\n",
       "      <td>0.0</td>\n",
       "      <td>0.3</td>\n",
       "      <td>0.01</td>\n",
       "      <td>0.0</td>\n",
       "    </tr>\n",
       "    <tr>\n",
       "      <th>1</th>\n",
       "      <td>[[1, 1, 1, 1], [1, 0, 1, 0], [1, 1, 0, 0], [1,...</td>\n",
       "      <td>0.535</td>\n",
       "      <td>8.0</td>\n",
       "      <td>0.0</td>\n",
       "      <td>0.0</td>\n",
       "      <td>1.0</td>\n",
       "      <td>0.0</td>\n",
       "      <td>0.3</td>\n",
       "      <td>0.01</td>\n",
       "      <td>0.0</td>\n",
       "    </tr>\n",
       "    <tr>\n",
       "      <th>2</th>\n",
       "      <td>[[1, 0, 0, 0], [0, 0, 1, 0], [0, 0, 0, 1], [0,...</td>\n",
       "      <td>0.520</td>\n",
       "      <td>8.0</td>\n",
       "      <td>0.0</td>\n",
       "      <td>0.0</td>\n",
       "      <td>1.0</td>\n",
       "      <td>0.0</td>\n",
       "      <td>0.3</td>\n",
       "      <td>0.01</td>\n",
       "      <td>0.0</td>\n",
       "    </tr>\n",
       "    <tr>\n",
       "      <th>3</th>\n",
       "      <td>[[1, 0, 1, 0], [0, 0, 0, 0], [0, 0, 1, 0], [1,...</td>\n",
       "      <td>0.525</td>\n",
       "      <td>8.0</td>\n",
       "      <td>0.0</td>\n",
       "      <td>0.0</td>\n",
       "      <td>1.0</td>\n",
       "      <td>0.0</td>\n",
       "      <td>0.3</td>\n",
       "      <td>0.01</td>\n",
       "      <td>0.0</td>\n",
       "    </tr>\n",
       "    <tr>\n",
       "      <th>4</th>\n",
       "      <td>[[1, 1, 0, 1], [0, 0, 1, 0], [1, 1, 1, 1], [1,...</td>\n",
       "      <td>0.600</td>\n",
       "      <td>8.0</td>\n",
       "      <td>0.0</td>\n",
       "      <td>0.0</td>\n",
       "      <td>1.0</td>\n",
       "      <td>0.0</td>\n",
       "      <td>0.3</td>\n",
       "      <td>0.01</td>\n",
       "      <td>0.0</td>\n",
       "    </tr>\n",
       "  </tbody>\n",
       "</table>\n",
       "</div>"
      ],
      "text/plain": [
       "                                        episode_data  episode_reward_rate  \\\n",
       "0  [[0, 0, 1, 0], [0, 1, 0, 1], [0, 0, 1, 1], [0,...                0.550   \n",
       "1  [[1, 1, 1, 1], [1, 0, 1, 0], [1, 1, 0, 0], [1,...                0.535   \n",
       "2  [[1, 0, 0, 0], [0, 0, 1, 0], [0, 0, 0, 1], [0,...                0.520   \n",
       "3  [[1, 0, 1, 0], [0, 0, 0, 0], [0, 0, 1, 0], [1,...                0.525   \n",
       "4  [[1, 1, 0, 1], [0, 0, 1, 0], [1, 1, 1, 1], [1,...                0.600   \n",
       "\n",
       "   beta_stage2  beta_mf0  beta_mf1  beta_mb  beta_stick  Q_MB_rare_prob  \\\n",
       "0          8.0       0.0       0.0      1.0         0.0             0.3   \n",
       "1          8.0       0.0       0.0      1.0         0.0             0.3   \n",
       "2          8.0       0.0       0.0      1.0         0.0             0.3   \n",
       "3          8.0       0.0       0.0      1.0         0.0             0.3   \n",
       "4          8.0       0.0       0.0      1.0         0.0             0.3   \n",
       "\n",
       "   alpha  lam  \n",
       "0   0.01  0.0  \n",
       "1   0.01  0.0  \n",
       "2   0.01  0.0  \n",
       "3   0.01  0.0  \n",
       "4   0.01  0.0  "
      ]
     },
     "execution_count": 24,
     "metadata": {},
     "output_type": "execute_result"
    }
   ],
   "source": [
    "foo = pd.concat([a, b, c], axis=1)\n",
    "# change first two column names\n",
    "# foo.columns[0] = 'episode_data'\n",
    "# foo.columns[1] = 'episode_reward_rate'\n",
    "foo.columns = ['episode_data', 'episode_reward_rate'] + list(full_kwargs.keys())\n",
    "foo.head()"
   ]
  },
  {
   "cell_type": "code",
   "execution_count": 118,
   "metadata": {},
   "outputs": [
    {
     "name": "stderr",
     "output_type": "stream",
     "text": [
      "/var/folders/60/0t2c_bns6n3c7kjhdk4d4wk80000gn/T/ipykernel_15116/2302875295.py:4: RuntimeWarning: invalid value encountered in divide\n",
      "  betas_normed = betas.T / df.lam.values\n"
     ]
    }
   ],
   "source": [
    "# # n x 3\n",
    "# unique_betas = df.loc[df.lam == 1.0, ['beta_mf0', 'beta_mf1', 'beta_mb']].values\n",
    "# betas = df.loc[:, ['beta_mf0', 'beta_mf1', 'beta_mb']].values\n",
    "# betas_normed = betas.T / df.lam.values\n",
    "# betas_normed = betas_normed.T\n",
    "\n",
    "# # replace nans in betas_normed with zeros\n",
    "# betas_normed[np.isnan(betas_normed)] = 0\n",
    "# df['betas_normed'] = betas_normed.tolist()"
   ]
  },
  {
   "cell_type": "code",
   "execution_count": 122,
   "metadata": {},
   "outputs": [
    {
     "data": {
      "text/plain": [
       "Text(0, 0.5, 'reward rate')"
      ]
     },
     "execution_count": 122,
     "metadata": {},
     "output_type": "execute_result"
    },
    {
     "data": {
      "image/png": "[encoded data removed]",
      "text/plain": [
       "<Figure size 640x480 with 1 Axes>"
      ]
     },
     "metadata": {},
     "output_type": "display_data"
    }
   ],
   "source": [
    "# for a fixed betas, alpha, plot rew_rate as a function of lam\n",
    "cols = ['beta_mf0', 'beta_mf1', 'beta_mb', 'lam', 'alpha']\n",
    "cols2 = cols.copy()\n",
    "cols.remove('lam')\n",
    "# row = df.sample()\n",
    "# out = {k: row[k].values[0] for k in cols}\n",
    "# for k, v in out.items():\n",
    "#     print(k, v)\n",
    "# loc_conds = [df[col] == v for col, v in out.items()]\n",
    "# loc_cond = np.logical_and.reduce(loc_conds)\n",
    "\n",
    "betas_normed = np.vstack(df['betas_normed'].tolist())\n",
    "beta_cond = np.all(betas_normed == beta, axis=1)\n",
    "beta_cond = np.max(np.abs(betas_normed - beta), axis=1).min() < 1e-6\n",
    "loc_cond = beta_cond & (df.alpha == 0.01)\n",
    "# sns.barplot(x='lam', y='rew_rate', data=df[loc_cond])\n",
    "x = df.loc[loc_cond, 'lam']\n",
    "x = [f'{i:.2f}' for i in x]\n",
    "y = df.loc[loc_cond, 'rew_rate']\n",
    "yerr = df.loc[loc_cond, 'rew_rate_stderr']\n",
    "plt.bar(x, y, yerr=yerr)\n",
    "plt.ylim([0.5, 0.6])\n",
    "plt.xlabel('lambda')\n",
    "plt.ylabel('reward rate')"
   ]
  },
  {
   "cell_type": "code",
   "execution_count": 80,
   "metadata": {},
   "outputs": [
    {
     "data": {
      "text/html": [
       "<div>\n",
       "<style scoped>\n",
       "    .dataframe tbody tr th:only-of-type {\n",
       "        vertical-align: middle;\n",
       "    }\n",
       "\n",
       "    .dataframe tbody tr th {\n",
       "        vertical-align: top;\n",
       "    }\n",
       "\n",
       "    .dataframe thead th {\n",
       "        text-align: right;\n",
       "    }\n",
       "</style>\n",
       "<table border=\"1\" class=\"dataframe\">\n",
       "  <thead>\n",
       "    <tr style=\"text-align: right;\">\n",
       "      <th></th>\n",
       "      <th>beta_stage2</th>\n",
       "      <th>beta_mf0</th>\n",
       "      <th>beta_mf1</th>\n",
       "      <th>beta_mb</th>\n",
       "      <th>beta_stick</th>\n",
       "      <th>Q_MB_rare_prob</th>\n",
       "      <th>alpha</th>\n",
       "      <th>rew_rate</th>\n",
       "      <th>rew_rate_stderr</th>\n",
       "      <th>rew_rate_std</th>\n",
       "      <th>lam</th>\n",
       "      <th>betas_normed</th>\n",
       "    </tr>\n",
       "  </thead>\n",
       "  <tbody>\n",
       "  </tbody>\n",
       "</table>\n",
       "</div>"
      ],
      "text/plain": [
       "Empty DataFrame\n",
       "Columns: [beta_stage2, beta_mf0, beta_mf1, beta_mb, beta_stick, Q_MB_rare_prob, alpha, rew_rate, rew_rate_stderr, rew_rate_std, lam, betas_normed]\n",
       "Index: []"
      ]
     },
     "execution_count": 80,
     "metadata": {},
     "output_type": "execute_result"
    }
   ],
   "source": [
    "df.loc[beta_cond]"
   ]
  },
  {
   "cell_type": "code",
   "execution_count": null,
   "metadata": {},
   "outputs": [],
   "source": []
  }
 ],
 "metadata": {
  "kernelspec": {
   "display_name": "base",
   "language": "python",
   "name": "python3"
  },
  "language_info": {
   "codemirror_mode": {
    "name": "ipython",
    "version": 3
   },
   "file_extension": ".py",
   "mimetype": "text/x-python",
   "name": "python",
   "nbconvert_exporter": "python",
   "pygments_lexer": "ipython3",
   "version": "3.9.0"
  }
 },
 "nbformat": 4,
 "nbformat_minor": 2
}
